{
 "cells": [
  {
   "cell_type": "code",
   "execution_count": 56,
   "metadata": {},
   "outputs": [],
   "source": [
    "import pandas as pd\n",
    "import requests\n",
    "import json\n",
    "import math\n",
    "import datetime as dt\n",
    "import os\n",
    "from dotenv import load_dotenv\n",
    "\n",
    "pd.set_option('display.max_rows', 75)\n"
   ]
  },
  {
   "cell_type": "code",
   "execution_count": 57,
   "metadata": {},
   "outputs": [],
   "source": [
    "#Client information\n",
    "load_dotenv()\n",
    "username = os.getenv('USERNAME')\n",
    "password = os.getenv('PASSWORD')\n",
    "client_id = os.getenv('CLIENT_ID')\n",
    "client_secret = os.getenv('CLIENT_SECRET')"
   ]
  },
  {
   "cell_type": "code",
   "execution_count": 58,
   "metadata": {},
   "outputs": [],
   "source": [
    "curDate = dt.datetime.today()\n",
    "dateString = curDate.strftime('%Y-%m-%d')"
   ]
  },
  {
   "cell_type": "code",
   "execution_count": 59,
   "metadata": {},
   "outputs": [
    {
     "name": "stdout",
     "output_type": "stream",
     "text": [
      "{'access_token': 'd8441d3ca713da0ca40c6ba698cc3ed026f643a8', 'expires_in': 3600, 'token_type': 'Bearer', 'scope': 'api', 'refresh_token': '87050f35d76425038866412e4f7b06c4ec58fa6f'}\n"
     ]
    }
   ],
   "source": [
    "#Get authorization token\n",
    "#Data payload for token request\n",
    "token_data = {'client_id':client_id,'client_secret':client_secret,'grant_type':'password', 'username':username, 'password':password, 'scope':'api'}\n",
    "\n",
    "p1 = requests.post('https://scooterscoffee.docebosaas.com/oauth2/token', data=token_data)\n",
    "\n",
    "p1_result = json.loads(p1.text)\n",
    "\n",
    "print(p1_result)"
   ]
  },
  {
   "cell_type": "code",
   "execution_count": 60,
   "metadata": {},
   "outputs": [],
   "source": [
    "#Access token information\n",
    "access_token = p1_result['access_token']"
   ]
  },
  {
   "cell_type": "code",
   "execution_count": 61,
   "metadata": {},
   "outputs": [],
   "source": [
    "#Headers \n",
    "headers = {'Accept':'application/json','Client-ID':client_id, 'Authorization':'Bearer ' + access_token}"
   ]
  },
  {
   "cell_type": "code",
   "execution_count": 62,
   "metadata": {},
   "outputs": [],
   "source": [
    "#Import API_User_Export file for quicker user lookups\n",
    "docebo_users_df = pd.read_csv(\"C:\\\\Users\\\\michael.deal\\\\Downloads\\\\API_User_Export.csv\")\n",
    "\n",
    "#Set all usernames to lowercase\n",
    "docebo_users_df['Username'] = docebo_users_df.apply(lambda x: x['Username'].lower(), axis=1)\n",
    "\n",
    "#Set index to email address\n",
    "docebo_users_df = docebo_users_df.set_index('Username')"
   ]
  },
  {
   "cell_type": "code",
   "execution_count": 63,
   "metadata": {},
   "outputs": [],
   "source": [
    "#Functions\n",
    "LP = \"\"\n",
    "dumpText = \"\"\n",
    "\n",
    "\n",
    "def batchUpdate(userList: list, learningPlan):\n",
    "    '''Marks all of the listed users' courses \"Completed\" in Docebo.\n",
    "    userList: A list of users to modify\n",
    "    learningPlan: The name of the learning plan list specified in the script'''\n",
    "    batch_enroll_url = 'https://scooterscoffee.docebosaas.com/learn/v1/enrollments'\n",
    "\n",
    "    #Build API loop calls\n",
    "    for i in userList:\n",
    "        #Stringify the learning plan\n",
    "        LP = str(learningPlan)\n",
    "\n",
    "        #Assemble a payload for each user\n",
    "        #Create empty dictionary\n",
    "        dumpText = {}\n",
    "        dumpText[\"user_ids\"] = [i]\n",
    "        dumpText[\"course_ids\"] = learningPlan\n",
    "        dumpText[\"date_complete\"] = dateString\n",
    "        dumpText[\"status\"] = 2\n",
    "\n",
    "        #Encode JSON\n",
    "        payload = json.dumps(dumpText)\n",
    "\n",
    "        #Put request\n",
    "        requestPayloadF1 = requests.put(batch_enroll_url, data=payload, headers=headers)\n",
    "\n",
    "        #Return information\n",
    "        requestJSONF1 = requestPayloadF1.json()\n",
    "        print(requestPayloadF1)\n",
    "        print(dumpText)\n",
    "\n",
    "    print(\"Update completed.\")\n",
    "\n",
    "\n",
    "def batchUnenrollByCourse(userList: list, learningPlan):\n",
    "    '''Unenroll users from specified courses.\n",
    "    The users identified must be in a list.'''\n",
    "    batch_enroll_url = 'https://scooterscoffee.docebosaas.com/learn/v1/enrollments'\n",
    "\n",
    "    #Build API loop calls\n",
    "    dumpText = {}\n",
    "    dumpText[\"user_ids\"] = userList\n",
    "    dumpText[\"course_ids\"] = learningPlan\n",
    "\n",
    "    #Encode JSON\n",
    "    payload = json.dumps(dumpText)\n",
    "\n",
    "    #Put request\n",
    "    requestPayloadF1 = requests.delete(batch_enroll_url, data=payload, headers=headers)\n",
    "\n",
    "    #Return information\n",
    "    requestJSONF1 = requestPayloadF1.json()\n",
    "    print(requestPayloadF1)\n",
    "    print(dumpText)\n",
    "\n",
    "    print(\"Update completed.\")\n",
    "\n",
    "# Formatting\n",
    "# {\"user_ids\":[13085,13088],\"course_ids\":[197,243],\"date_complete\":\"2023-12-06\",\"status\":2}\n",
    "    \n",
    "\n",
    "def lookupUserID(userEmail):\n",
    "    '''Looks up a Docebo user ID based on their email address.'''\n",
    "    userEmail = userEmail.lower()\n",
    "    userID = docebo_users_df.loc[userEmail,'User unique ID']\n",
    "    display(userID)\n",
    "\n",
    "\n",
    "def lookupStoreUsers(branch, status: str, sortType: str):\n",
    "    '''Displays the users from a specific store along with their statuses.\n",
    "    - Branch: Must use four digits (include leading zeroes if necessary)\n",
    "    - Status options: Active, Inactive, All\n",
    "    - Sort Type options: Name, Date'''\n",
    "    store_df = docebo_users_df[docebo_users_df['Branches Codes'] == branch]\n",
    "    store_df = store_df.reset_index()\n",
    "    store_df[\"Full Name\"] = store_df.apply(lambda x: str(x['First Name']) + ' ' + str(x['Last Name']), axis=1)\n",
    "    store_df['Full Name'] = store_df.apply(lambda x: x['Full Name'].title(), axis=1)\n",
    "    store_df = store_df[['Branches Codes','Full Name','User unique ID','First Name','Last Name','Username','Position','User Creation Date','Deactivated']]\n",
    "    store_df = store_df.sort_values(by=['Full Name'])\n",
    "    display_df = pd.DataFrame()\n",
    "    \n",
    "    status = status.lower()\n",
    "    sortType = sortType.lower()\n",
    "\n",
    "    if status == 'active':\n",
    "        display_df = store_df[store_df['Deactivated'] == 'No']\n",
    "        if sortType == 'name':\n",
    "            display_df = display_df.sort_values(['Full Name'])\n",
    "        elif sortType == 'date':\n",
    "            display_df = display_df.sort_values(['User Creation Date','Full Name'])\n",
    "        else:\n",
    "            print(\"Please select a valid option for the sortType.\")\n",
    "        display(display_df)\n",
    "    elif status == 'inactive':\n",
    "        display_df = store_df[store_df['Deactivated'] == 'Yes']\n",
    "        if sortType == 'name':\n",
    "            display_df = display_df.sort_values(['Full Name'])\n",
    "        elif sortType == 'date':\n",
    "            display_df = display_df.sort_values(['User Creation Date','Full Name'])\n",
    "        else:\n",
    "            print(\"Please select a valid option for the sortType.\")\n",
    "        display(display_df)\n",
    "    elif status == 'all':\n",
    "        display_df = store_df\n",
    "        if sortType == 'name':\n",
    "            display_df = display_df.sort_values(['Full Name'])\n",
    "        elif sortType == 'date':\n",
    "            display_df = display_df.sort_values(['User Creation Date','Full Name'])\n",
    "        else:\n",
    "            print(\"Please select a valid option for the sortType.\")\n",
    "        display(display_df)\n",
    "    else:\n",
    "        print(\"Not a valid status code in function.\")\n",
    "    print(list(display_df['User unique ID']))\n",
    "    print(len(list(display_df['User unique ID'])))"
   ]
  },
  {
   "cell_type": "code",
   "execution_count": 64,
   "metadata": {},
   "outputs": [
    {
     "name": "stdout",
     "output_type": "stream",
     "text": [
      "262\n"
     ]
    }
   ],
   "source": [
    "#Get list of All Courses\n",
    "\n",
    "#API endpoint for getting Courses\n",
    "courses_URL = 'https://training.scooterscoffee.com/learn/v1/courses'\n",
    "pageSize = 200\n",
    "\n",
    "requestPayload1 = requests.get(courses_URL + '?page_size=' + str(pageSize), headers=headers)\n",
    "requestJSON1 = requestPayload1.json()\n",
    "\n",
    "#Get total number of users\n",
    "recordCount = int(requestJSON1['data']['total_count'])\n",
    "\n",
    "print(requestJSON1['data']['total_count'])\n",
    "\n",
    "#Calculate the number of loops needed to retrieve all records\n",
    "loopCounter = recordCount / pageSize\n",
    "\n",
    "#Round up loopCounter\n",
    "looper = math.ceil(loopCounter)"
   ]
  },
  {
   "cell_type": "code",
   "execution_count": 65,
   "metadata": {},
   "outputs": [
    {
     "name": "stdout",
     "output_type": "stream",
     "text": [
      "Page 1 has finished its call.\n",
      "Page 2 has finished its call.\n",
      "All records pulled.\n"
     ]
    }
   ],
   "source": [
    "#Query all possible records for All Courses\n",
    "\n",
    "#Initialize dataframe\n",
    "courses_df = pd.DataFrame()\n",
    "\n",
    "#Initialize page number\n",
    "pageNum = 1\n",
    "\n",
    "#Get all pages of data\n",
    "for i in range(looper):\n",
    "    requestPayload2 = requests.get(courses_URL + '?page_size=' + str(pageSize) + '&page=' + str(pageNum), headers=headers)\n",
    "    requestJSON2 = requestPayload2.json()\n",
    "    print(\"Page \" + str(pageNum) + \" has finished its call.\")\n",
    "    pageNum += 1\n",
    "    itemsDict = requestJSON2['data']['items']\n",
    "    itemsDict_df = pd.DataFrame.from_dict(itemsDict)\n",
    "    courses_df = pd.concat([courses_df, itemsDict_df], ignore_index=True)\n",
    "    \n",
    "print(\"All records pulled.\")\n",
    "\n",
    "#Expand out items from \"category\" field to get appropriate courses\n",
    "#Category ID\n",
    "courses_df['category_id'] = courses_df.apply(lambda x: x['category']['id'], axis=1)\n",
    "#Category Name\n",
    "courses_df['category_name'] = courses_df.apply(lambda x: x['category']['name'], axis=1)"
   ]
  },
  {
   "cell_type": "code",
   "execution_count": 66,
   "metadata": {},
   "outputs": [],
   "source": [
    "#Ad hoc\n",
    "#Import list of completed checklist users\n",
    "cl_complete_df = pd.read_csv(\"C:\\\\Users\\\\michael.deal\\\\OneDrive - Boundless Enterprises, LLC\\\\Documents\\\\Docebo\\\\Reports\\\\Checklists\\\\completed_users.csv\", dtype={'USER_ID':'str'})\n",
    "\n",
    "cl_list = list(cl_complete_df['USER_ID'])\n"
   ]
  },
  {
   "cell_type": "code",
   "execution_count": 67,
   "metadata": {},
   "outputs": [],
   "source": [
    "#Simplify courses_df to needed data\n",
    "courses_simple_df = courses_df[['category_name','name','id_course']]\n",
    "\n",
    "courses_simple_df = courses_simple_df.sort_values(by=['category_name','name','id_course'])"
   ]
  },
  {
   "cell_type": "code",
   "execution_count": 68,
   "metadata": {},
   "outputs": [],
   "source": [
    "#Lists of courses (by ID number) by learning plan that can be updated from SCTC carryover. To build lists, you need to visually inspect the courses_simplify_df dataframe and pick out courses that were carried over from SCTC.\n",
    "\n",
    "# Barista courses\n",
    "b_old = [16, 19, 13, 22, 18, 17, 20, 21, 10, 15, 9, 14]\n",
    "b_new = [23, 16, 19, 13, 22, 18, 17, 116, 20, 21, 117, 104, 10, 15, 9, 14]\n",
    "\n",
    "#Junior Manager courses\n",
    "jm_old = [60, 61, 62, 63, 64, 65]\n",
    "jm_new = [60, 61, 62, 63, 64, 65]\n",
    "\n",
    "#Store Manager courses\n",
    "sm_old = [53, 45, 54, 51, 48, 49, 42, 50, 46, 44, 47, 52, 103, 41]\n",
    "sm_new = [238, 53, 45, 54, 51, 48, 49, 42, 50, 46, 44, 47, 52, 103, 43, 41]\n",
    "\n",
    "#Manager (Barista Skills) courses\n",
    "mbs_old = [74, 70, 77, 66, 71, 73, 69, 67, 78, 75, 79, 76]\n",
    "mbs_new = [74, 70, 77, 66, 71, 73, 241, 69, 67, 242, 240, 78, 75, 79, 76]\n",
    "\n",
    "#Franchise Owner courses\n",
    "fo_old = [56, 32, 35, 33, 40, 39, 36, 34, 38, 37, 28, 31, 29, 30]\n",
    "fo_new = [56, 32, 35, 33, 40, 39, 36, 34, 38, 37, 28, 31, 29, 30]\n",
    "\n",
    "#Corp courses\n",
    "corp_test = [197, 243]\n",
    "\n",
    "#Store Manager Certification\n",
    "sm_cert = [284]\n",
    "\n",
    "#Barista checklist\n",
    "bar_check = [23]"
   ]
  },
  {
   "cell_type": "code",
   "execution_count": 69,
   "metadata": {},
   "outputs": [],
   "source": [
    "# #Looks up a user ID from the imported file based on their email.\n",
    "# lookupUserID('emmar.archoldings@gmail.com')"
   ]
  },
  {
   "cell_type": "code",
   "execution_count": 70,
   "metadata": {},
   "outputs": [],
   "source": [
    "# #Looks up the users in a store \n",
    "# lookupStoreUsers('0070', 'active', 'date')"
   ]
  },
  {
   "cell_type": "code",
   "execution_count": 71,
   "metadata": {},
   "outputs": [],
   "source": [
    "# #Updates all the courses for the selected users in the specified learning plan.\n",
    "# batchUpdate([00001], bar_check)"
   ]
  },
  {
   "cell_type": "code",
   "execution_count": 72,
   "metadata": {},
   "outputs": [],
   "source": [
    "# #Unenrolls the users in the list from the specified learning plan.\n",
    "# batchUnenrollByCourse([27547], sm_cert)"
   ]
  }
 ],
 "metadata": {
  "kernelspec": {
   "display_name": "Python 3",
   "language": "python",
   "name": "python3"
  },
  "language_info": {
   "codemirror_mode": {
    "name": "ipython",
    "version": 3
   },
   "file_extension": ".py",
   "mimetype": "text/x-python",
   "name": "python",
   "nbconvert_exporter": "python",
   "pygments_lexer": "ipython3",
   "version": "3.11.7"
  }
 },
 "nbformat": 4,
 "nbformat_minor": 2
}
