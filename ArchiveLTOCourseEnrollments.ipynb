{
 "cells": [
  {
   "cell_type": "markdown",
   "metadata": {},
   "source": [
    "### Archive LTO Course Enrollments ###\n",
    "The purpose of this file is to archive the enrollments of users in courses in Docebo to save their progress, but remove the course from their view in their dashboards. This is generally used for LTO courses that are temporary, but still need to be completed by kiosk employees.\n",
    "\n",
    "This script has two main functions. You should only run one or the other, but not both in the same execution.\n",
    "- The \"Single Course Removal\" targets a single course at a time and only includes users that are enrolled in that course to perform an API call against.\n",
    "- The \"Multi-course Removal\" targets multiple courses and attempts to remove all users that are enrolled in any one of those courses. This function is better to use if you have many users that overlap in multiple courses. Don't use this one if the users are not in the majority of the courses you are trying to archive."
   ]
  },
  {
   "cell_type": "code",
   "execution_count": null,
   "metadata": {},
   "outputs": [],
   "source": [
    "import pandas as pd\n",
    "import requests\n",
    "import json\n",
    "import math\n",
    "import datetime as dt\n",
    "import os\n",
    "from dotenv import load_dotenv"
   ]
  },
  {
   "cell_type": "code",
   "execution_count": null,
   "metadata": {},
   "outputs": [],
   "source": [
    "curDate = dt.datetime.today()\n",
    "dateString = curDate.strftime('%Y-%m-%d')"
   ]
  },
  {
   "cell_type": "code",
   "execution_count": null,
   "metadata": {},
   "outputs": [],
   "source": [
    "#Client information\n",
    "load_dotenv()\n",
    "username = os.getenv('USERNAME')\n",
    "password = os.getenv('PASSWORD')\n",
    "client_id = os.getenv('CLIENT_ID')\n",
    "client_secret = os.getenv('CLIENT_SECRET')"
   ]
  },
  {
   "cell_type": "code",
   "execution_count": null,
   "metadata": {},
   "outputs": [],
   "source": [
    "#Get authorization token\n",
    "#Data payload for token request\n",
    "token_data = {'client_id':client_id,'client_secret':client_secret,'grant_type':'password', 'username':username, 'password':password, 'scope':'api'}\n",
    "\n",
    "p1 = requests.post('https://scooterscoffee.docebosaas.com/oauth2/token', data=token_data)\n",
    "\n",
    "p1_result = json.loads(p1.text)\n",
    "\n",
    "print(p1_result)"
   ]
  },
  {
   "cell_type": "code",
   "execution_count": null,
   "metadata": {},
   "outputs": [],
   "source": [
    "#Access token information\n",
    "access_token = p1_result['access_token']"
   ]
  },
  {
   "cell_type": "code",
   "execution_count": null,
   "metadata": {},
   "outputs": [],
   "source": [
    "#Headers \n",
    "headers = {'Accept':'application/json','Client-ID':client_id, 'Authorization':'Bearer ' + access_token}"
   ]
  },
  {
   "cell_type": "code",
   "execution_count": null,
   "metadata": {},
   "outputs": [],
   "source": [
    "#Get list of All Courses\n",
    "\n",
    "#API endpoint for getting Courses\n",
    "courses_URL = 'https://scooterscoffee.docebosaas.com/learn/v1/courses'\n",
    "pageSize = 200\n",
    "\n",
    "requestPayload1 = requests.get(courses_URL + '?page_size=' + str(pageSize), headers=headers)\n",
    "requestJSON1 = requestPayload1.json()\n",
    "\n",
    "#Get total number of users\n",
    "recordCount = int(requestJSON1['data']['total_count'])\n",
    "\n",
    "print(requestJSON1['data']['total_count'])\n",
    "\n",
    "#Calculate the number of loops needed to retrieve all records\n",
    "loopCounter = recordCount / pageSize\n",
    "\n",
    "#Round up loopCounter\n",
    "looper = math.ceil(loopCounter)"
   ]
  },
  {
   "cell_type": "code",
   "execution_count": null,
   "metadata": {},
   "outputs": [],
   "source": [
    "#Query all possible records for All Courses\n",
    "\n",
    "#Initialize dataframe\n",
    "courses_df = pd.DataFrame()\n",
    "\n",
    "#Initialize page number\n",
    "pageNum = 1\n",
    "\n",
    "#Get all pages of data\n",
    "for i in range(looper):\n",
    "    requestPayload2 = requests.get(courses_URL + '?page_size=' + str(pageSize) + '&page=' + str(pageNum), headers=headers)\n",
    "    requestJSON2 = requestPayload2.json()\n",
    "    print(\"Page \" + str(pageNum) + \" has finished its call.\")\n",
    "    pageNum += 1\n",
    "    itemsDict = requestJSON2['data']['items']\n",
    "    itemsDict_df = pd.DataFrame.from_dict(itemsDict)\n",
    "    courses_df = pd.concat([courses_df, itemsDict_df], ignore_index=True)\n",
    "    \n",
    "print(\"All records pulled.\")\n",
    "\n",
    "#Expand out items from \"category\" field to get appropriate courses\n",
    "#Category ID\n",
    "courses_df['category_id'] = courses_df.apply(lambda x: x['category']['id'], axis=1)\n",
    "#Category Name\n",
    "courses_df['category_name'] = courses_df.apply(lambda x: x['category']['name'], axis=1)"
   ]
  },
  {
   "cell_type": "code",
   "execution_count": null,
   "metadata": {},
   "outputs": [],
   "source": [
    "#Import course enrollments to be archived\n",
    "#This file is generated by exporting the \"Archive LTO Enrollments\" report from Scooterversity. The courses you want to target need to be specified on the \"Filters\" tab of the report before exporting. The filepath will also need to be changed to import the \"Archive LTO Enrollments\" file into this notebook.\n",
    "archive_LTO_enrollments_df = pd.read_csv(\"C:\\\\Users\\\\michael.deal\\\\Downloads\\\\Archive_LTO_Enrollments.csv\")\n",
    "\n",
    "#Create Course List\n",
    "remove_course_list = list(archive_LTO_enrollments_df['Course Internal ID'].drop_duplicates())\n",
    "\n",
    "print(remove_course_list)"
   ]
  },
  {
   "cell_type": "code",
   "execution_count": null,
   "metadata": {},
   "outputs": [],
   "source": [
    "#These lists are built using the \"Course Internal ID\" from Docebo. The user list is created to identify the course ID the users belong to. The user lists are only needed when using the \"Single Course Removal\" script. The \"remove_users_list\" is used when using the \"Mutli-course Removal\" script\n",
    "#Completed: 271, 272, 236, 235, 234, 255, 273, 105, 118, 80, 239, 277, 282\n",
    "\n",
    "#Build user lists\n",
    "# c_54_df = archive_LTO_enrollments_df[archive_LTO_enrollments_df['Course Internal ID'] == 54]\n",
    "# c_54_list = list(c_54_df['User unique ID'])\n",
    "\n",
    "#Build All Courses User List\n",
    "remove_users_list = list(archive_LTO_enrollments_df['User unique ID'].drop_duplicates())\n",
    "\n"
   ]
  },
  {
   "cell_type": "code",
   "execution_count": null,
   "metadata": {},
   "outputs": [],
   "source": [
    "# #Single Course Removal script\n",
    "\n",
    "# #!!! When using this script, remember to update the archive_post_url and cur_list variables to use the targeted course ID. Also be sure the user lists built in the previous step are utilizing the same Course Internal IDs as in the variables just mentioned.\n",
    "\n",
    "# #Delete statement for API call. Users string formatting with list of Power Users with assigned users. The {0} in the url is the substituted value.\n",
    "# archive_post_url = 'https://scooterscoffee.docebosaas.com/enrollment/v1/courses/54/users/{0}/archive'\n",
    "\n",
    "# #Current list\n",
    "# curList = c_54_list\n",
    "\n",
    "# #Additional payload information. Must pass \"All:true\" to remove all users on the delete request or it won't remove any. This must be in a json.dumps() to accomodate Docebo.\n",
    "# dumpText = {}\n",
    "# dumpText[\"reset_tracking\"] = False\n",
    "# dumpText[\"enrollment_mode\"] = \"delete\"\n",
    "\n",
    "# payload = json.dumps(dumpText)\n",
    "\n",
    "# #Create variables for list counting in print\n",
    "# curRecord = 1\n",
    "# listLen = len(curList)\n",
    "\n",
    "# #Loop through list of user IDs and substitute them into the DELETE request each time.\n",
    "# for user in curList:\n",
    "#     tempArchiveURL = archive_post_url.format(user)\n",
    "#     requestPayload1 = requests.post(tempArchiveURL, data=payload, headers=headers)\n",
    "#     requestJSON1 = requestPayload1.json()\n",
    "#     print(\"API request: \" + tempArchiveURL)\n",
    "#     print(requestPayload1)\n",
    "#     print(\"Finished record \"+ str(curRecord) + \" of \" + str(listLen))\n",
    "#     curRecord += 1\n",
    "    "
   ]
  },
  {
   "cell_type": "code",
   "execution_count": null,
   "metadata": {},
   "outputs": [],
   "source": [
    "#Multi-course Removal script\n",
    "\n",
    "#Run loop to remove assigned users from all Power Users\n",
    "\n",
    "#Delete statement for API call. Users string formatting with list of Power Users with assigned users. The {0} is the course Course Internal ID, and the {1} is the User unique ID.\n",
    "archive_post_url = 'https://scooterscoffee.docebosaas.com/enrollment/v1/courses/{0}/users/{1}/archive'\n",
    "\n",
    "#Remove User List\n",
    "ruList = remove_users_list\n",
    "\n",
    "#Remove Course List\n",
    "rcList = remove_course_list\n",
    "\n",
    "#Additional payload information. Must pass \"All:true\" to remove all users on the delete request or it won't remove any. This must be in a json.dumps() to accomodate Docebo.\n",
    "dumpText = {}\n",
    "dumpText[\"reset_tracking\"] = False\n",
    "dumpText[\"enrollment_mode\"] = \"delete\"\n",
    "\n",
    "payload = json.dumps(dumpText)\n",
    "\n",
    "#Create variables for list counting in print\n",
    "curUser = 1\n",
    "userListLen = len(ruList)\n",
    "curCourse = 1\n",
    "courseListLen = len(rcList)\n",
    "\n",
    "#Loop through list of user IDs and substitute them into the DELETE request each time.\n",
    "for course in rcList:\n",
    "    for user in ruList:\n",
    "        tempArchiveURL = archive_post_url.format(course, user)\n",
    "        requestPayload1 = requests.post(tempArchiveURL, data=payload, headers=headers)\n",
    "        requestJSON1 = requestPayload1.json()\n",
    "        print(\"API request: \" + tempArchiveURL)\n",
    "        print(requestPayload1)\n",
    "        print(\"Finished record \"+ str(curUser) + \" of \" + str(userListLen) + \"; (Course \" + str(curCourse) + \" of \" + str(courseListLen) + \")\")\n",
    "        curUser += 1\n",
    "    #Reset counter for User\n",
    "    curUser = 1\n",
    "    curCourse += 1\n",
    "print(\"Update completed.\")"
   ]
  }
 ],
 "metadata": {
  "kernelspec": {
   "display_name": "Python 3",
   "language": "python",
   "name": "python3"
  },
  "language_info": {
   "codemirror_mode": {
    "name": "ipython",
    "version": 3
   },
   "file_extension": ".py",
   "mimetype": "text/x-python",
   "name": "python",
   "nbconvert_exporter": "python",
   "pygments_lexer": "ipython3",
   "version": "3.11.7"
  }
 },
 "nbformat": 4,
 "nbformat_minor": 2
}
