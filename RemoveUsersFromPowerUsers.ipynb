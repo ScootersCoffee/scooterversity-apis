{
 "cells": [
  {
   "cell_type": "markdown",
   "metadata": {},
   "source": [
    "### Remove Users from Power User profiles ###\n",
    "The purpose of this script is to remove the assignment of users to Power Users. When a user is added to Docebo by a Power User, that new user is automatically assigned to the Power User's profile. This is problematic because even if a user is moved between branches, the Power User who added them still has control over their profile. There is no way to remove the automatic assignment, so users must be periodically purged from the Power User assignments (ideally weekly).\n",
    "\n",
    "After updating the Client information, this script can be run as is to purge users from Power Users."
   ]
  },
  {
   "cell_type": "code",
   "execution_count": null,
   "metadata": {},
   "outputs": [],
   "source": [
    "import pandas as pd\n",
    "import requests\n",
    "import json\n",
    "import math\n",
    "import os\n",
    "from dotenv import load_dotenv"
   ]
  },
  {
   "cell_type": "code",
   "execution_count": null,
   "metadata": {},
   "outputs": [],
   "source": [
    "#Client information\n",
    "load_dotenv()\n",
    "username = os.getenv('USERNAME')\n",
    "password = os.getenv('PASSWORD')\n",
    "client_id = os.getenv('CLIENT_ID')\n",
    "client_secret = os.getenv('CLIENT_SECRET')"
   ]
  },
  {
   "cell_type": "code",
   "execution_count": null,
   "metadata": {},
   "outputs": [],
   "source": [
    "#Get authorization token\n",
    "#Data payload for token request\n",
    "token_data = {'client_id':client_id,'client_secret':client_secret,'grant_type':'password', 'username':username, 'password':password, 'scope':'api'}\n",
    "\n",
    "p1 = requests.post('https://scooterscoffee.docebosaas.com/oauth2/token', data=token_data)\n",
    "\n",
    "p1_result = json.loads(p1.text)\n",
    "\n",
    "print(p1_result)"
   ]
  },
  {
   "cell_type": "code",
   "execution_count": null,
   "metadata": {},
   "outputs": [],
   "source": [
    "#Access token information\n",
    "access_token = p1_result['access_token']"
   ]
  },
  {
   "cell_type": "code",
   "execution_count": null,
   "metadata": {},
   "outputs": [],
   "source": [
    "#Headers \n",
    "headers = {'Accept':'application/json','Client-ID':client_id, 'Authorization':'Bearer ' + access_token}"
   ]
  },
  {
   "cell_type": "code",
   "execution_count": null,
   "metadata": {},
   "outputs": [],
   "source": [
    "#Get list of Power Users\n",
    "\n",
    "#API endpoint for getting Power Users\n",
    "pu_get_URL = 'https://scooterscoffee.docebosaas.com/poweruser/v1/powerusers'\n",
    "pageSize = 200\n",
    "\n",
    "requestPayload1 = requests.get(pu_get_URL + '?page_size=' + str(pageSize), headers=headers)\n",
    "requestJSON1 = requestPayload1.json()\n",
    "\n",
    "#Get total number of users\n",
    "recordCount = int(requestJSON1['data']['total_count'])\n",
    "\n",
    "print(\"Total Power Users: \" + str(requestJSON1['data']['total_count']))\n",
    "\n",
    "#Calculate the number of loops needed to retrieve all records\n",
    "loopCounter = recordCount / 200\n",
    "\n",
    "#Round up loopCounter\n",
    "looper = math.ceil(loopCounter)"
   ]
  },
  {
   "cell_type": "code",
   "execution_count": null,
   "metadata": {},
   "outputs": [],
   "source": [
    "#Query all possible records for Power Users\n",
    "\n",
    "#Initialize dataframe\n",
    "powerUser_df = pd.DataFrame()\n",
    "\n",
    "#Initialize page number\n",
    "pageNum = 1\n",
    "\n",
    "#Get all pages of data\n",
    "for i in range(looper):\n",
    "    requestPayload2 = requests.get(pu_get_URL + '?page_size=' + str(pageSize) + '&page=' + str(pageNum), headers=headers)\n",
    "    requestJSON2 = requestPayload2.json()\n",
    "    print(\"Page \" + str(pageNum) + \" has finished its call.\")\n",
    "    pageNum += 1\n",
    "    itemsDict = requestJSON2['data']['items']\n",
    "    itemsDict_df = pd.DataFrame.from_dict(itemsDict)\n",
    "    powerUser_df = pd.concat([powerUser_df, itemsDict_df], ignore_index=True)\n",
    "    "
   ]
  },
  {
   "cell_type": "code",
   "execution_count": null,
   "metadata": {},
   "outputs": [],
   "source": [
    "#Build simplified dataframe to get Power Users with assigned users\n",
    "\n",
    "#Get simplified list of all Power Users\n",
    "powerUser_simple_df = powerUser_df[['id','username','firstname','lastname','total_assigned_users']]\n",
    "\n",
    "#Create dataframe of users with assigned users. (This is to help cut down on API transactions for Power Users without assigned users.)\n",
    "pu_withAssignedUsers_df = powerUser_simple_df[powerUser_simple_df['total_assigned_users'] > 0]\n",
    "\n",
    "\n",
    "#Create list of Powers Users with assigned users by ID Number\n",
    "pu_id_withAssignedUsers_list = list(pu_withAssignedUsers_df['id'])\n",
    "\n",
    "\n",
    "#Show number of records to clean up\n",
    "print(str(len(pu_id_withAssignedUsers_list)) + \" users to update.\")"
   ]
  },
  {
   "cell_type": "code",
   "execution_count": null,
   "metadata": {},
   "outputs": [],
   "source": [
    "#Run loop to remove assigned users from all Power Users\n",
    "\n",
    "#Delete statement for API call. Users string formatting with list of Power Users with assigned users. The {0} in the url is the substituted value.\n",
    "pu_delete_url = 'https://scooterscoffee.docebosaas.com/poweruser/v1/powerusers/{0}/users'\n",
    "\n",
    "#Additional payload information. Must pass \"All:true\" to remove all users on the delete request or it won't remove any. This must be in a json.dumps() to accomodate Docebo.\n",
    "payload = json.dumps({\"all\":'true'})\n",
    "\n",
    "#Create variables for list counting in print\n",
    "curRecord = 1\n",
    "\n",
    "#Loop through list of user IDs and substitute them into the DELETE request each time.\n",
    "for user in pu_id_withAssignedUsers_list:\n",
    "    tempDeleteURL = pu_delete_url.format(user)\n",
    "    requestPayload3 = requests.delete(tempDeleteURL, data=payload, headers=headers)\n",
    "    requestJSON3 = requestPayload3.json()\n",
    "    print(\"API request: \" + tempDeleteURL)\n",
    "    print(requestPayload3)\n",
    "    print(\"Finished record \"+ str(curRecord) + \" of \" + str(len(pu_id_withAssignedUsers_list)))\n",
    "    curRecord += 1\n",
    "\n",
    "print(\"Update complete.\")"
   ]
  }
 ],
 "metadata": {
  "kernelspec": {
   "display_name": "Python 3",
   "language": "python",
   "name": "python3"
  },
  "language_info": {
   "codemirror_mode": {
    "name": "ipython",
    "version": 3
   },
   "file_extension": ".py",
   "mimetype": "text/x-python",
   "name": "python",
   "nbconvert_exporter": "python",
   "pygments_lexer": "ipython3",
   "version": "3.11.7"
  }
 },
 "nbformat": 4,
 "nbformat_minor": 2
}
